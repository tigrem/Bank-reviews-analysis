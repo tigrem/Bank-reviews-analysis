{
 "cells": [
  {
   "cell_type": "code",
   "execution_count": 8,
   "id": "350b8441-1b0a-4bfd-92fc-95c11f4f5c85",
   "metadata": {},
   "outputs": [
    {
     "name": "stdout",
     "output_type": "stream",
     "text": [
      "✅ Saved 400 reviews to CBE_reviews_20250607_093511.csv\n",
      "\n",
      "Sample data from CBE_reviews_20250607_093511.csv:\n",
      "{'review_text': 'what is this app problem???', 'rating': '1', 'date': '2025-06-05', 'bank_name': 'CBE', 'source': 'Google Play'}\n",
      "{'review_text': 'the app is proactive and a good connections.', 'rating': '5', 'date': '2025-06-05', 'bank_name': 'CBE', 'source': 'Google Play'}\n",
      "{'review_text': 'I cannot send to cbebirr app. through this app.', 'rating': '3', 'date': '2025-06-05', 'bank_name': 'CBE', 'source': 'Google Play'}\n",
      "{'review_text': 'good', 'rating': '4', 'date': '2025-06-05', 'bank_name': 'CBE', 'source': 'Google Play'}\n",
      "{'review_text': 'not functional', 'rating': '1', 'date': '2025-06-05', 'bank_name': 'CBE', 'source': 'Google Play'}\n",
      "✅ Saved 400 reviews to BOA_reviews_20250607_093513.csv\n",
      "\n",
      "Sample data from BOA_reviews_20250607_093513.csv:\n",
      "{'review_text': \"it's not working\", 'rating': '3', 'date': '2025-06-05', 'bank_name': 'BOA', 'source': 'Google Play'}\n",
      "{'review_text': 'Hello, I’m facing a problem with the BOA Mobile app. Every time I enter my phone number and password, the app crashes and shows an error that says “BoaMobile closed because this app has a bug.” I tried updating, reinstalling, and clearing cache, but nothing worked. Please fix this bug in the next update. I really need access to my account. Thank you.', 'rating': '1', 'date': '2025-06-03', 'bank_name': 'BOA', 'source': 'Google Play'}\n",
      "{'review_text': 'exceptional', 'rating': '5', 'date': '2025-06-03', 'bank_name': 'BOA', 'source': 'Google Play'}\n",
      "{'review_text': 'BoA Mobile good bank', 'rating': '5', 'date': '2025-06-02', 'bank_name': 'BOA', 'source': 'Google Play'}\n",
      "{'review_text': 'this is worest app 24/7 loading', 'rating': '1', 'date': '2025-06-01', 'bank_name': 'BOA', 'source': 'Google Play'}\n",
      "✅ Saved 400 reviews to Dashen_reviews_20250607_093514.csv\n",
      "\n",
      "Sample data from Dashen_reviews_20250607_093514.csv:\n",
      "{'review_text': 'love', 'rating': '3', 'date': '2025-06-06', 'bank_name': 'Dashen', 'source': 'Google Play'}\n",
      "{'review_text': 'መቸሸጠ', 'rating': '5', 'date': '2025-06-03', 'bank_name': 'Dashen', 'source': 'Google Play'}\n",
      "{'review_text': 'wow', 'rating': '5', 'date': '2025-06-03', 'bank_name': 'Dashen', 'source': 'Google Play'}\n",
      "{'review_text': 'gadaa', 'rating': '5', 'date': '2025-06-01', 'bank_name': 'Dashen', 'source': 'Google Play'}\n",
      "{'review_text': 'Massive upgrade from the Amole app.', 'rating': '5', 'date': '2025-05-31', 'bank_name': 'Dashen', 'source': 'Google Play'}\n"
     ]
    }
   ],
   "source": [
    "import csv\n",
    "from datetime import datetime\n",
    "from google_play_scraper import Sort, reviews\n",
    "import os\n",
    "\n",
    "def scrape_play_store_reviews(app_id, bank_name):\n",
    "    results, _ = reviews(\n",
    "        app_id,\n",
    "        lang='en',\n",
    "        country='us',\n",
    "        sort=Sort.NEWEST,\n",
    "        count=400\n",
    "    )\n",
    "\n",
    "    timestamp = datetime.now().strftime('%Y%m%d_%H%M%S')\n",
    "    filename = f'{bank_name}_reviews_{timestamp}.csv'\n",
    "\n",
    "    with open(filename, mode='w', newline='', encoding='utf-8') as file:\n",
    "        writer = csv.DictWriter(file, fieldnames=['review_text', 'rating', 'date', 'bank_name', 'source'])\n",
    "        writer.writeheader()\n",
    "\n",
    "        for entry in results:\n",
    "            writer.writerow({\n",
    "                'review_text': entry['content'],\n",
    "                'rating': entry['score'],\n",
    "                'date': entry['at'].strftime('%Y-%m-%d'),\n",
    "                'bank_name': bank_name,\n",
    "                'source': 'Google Play'\n",
    "            })\n",
    "\n",
    "    print(f\"✅ Saved {len(results)} reviews to {filename}\")\n",
    "    return filename  # Return the filename for later use\n",
    "\n",
    "def display_sample_data(filename):\n",
    "    print(f\"\\nSample data from {filename}:\")\n",
    "    with open(filename, mode='r', encoding='utf-8') as file:\n",
    "        reader = csv.DictReader(file)\n",
    "        sample_count = 5  # Number of samples to display\n",
    "        for i, row in enumerate(reader):\n",
    "            if i < sample_count:\n",
    "                print(row)\n",
    "            else:\n",
    "                break\n",
    "\n",
    "if __name__ == \"__main__\":\n",
    "    banks = {\n",
    "        \"CBE\": \"com.combanketh.mobilebanking\",\n",
    "        \"BOA\": \"com.boa.boaMobileBanking\",\n",
    "        \"Dashen\": \"com.dashen.dashensuperapp\"\n",
    "    }\n",
    "\n",
    "    for bank_name, app_id in banks.items():\n",
    "        filename = scrape_play_store_reviews(app_id, bank_name)\n",
    "        display_sample_data(filename)  # Display sample data from the saved CSV"
   ]
  },
  {
   "cell_type": "code",
   "execution_count": null,
   "id": "bb28de59-3c88-4488-af74-84e0b7487ef7",
   "metadata": {},
   "outputs": [],
   "source": []
  }
 ],
 "metadata": {
  "kernelspec": {
   "display_name": "Python 3 (ipykernel)",
   "language": "python",
   "name": "python3"
  },
  "language_info": {
   "codemirror_mode": {
    "name": "ipython",
    "version": 3
   },
   "file_extension": ".py",
   "mimetype": "text/x-python",
   "name": "python",
   "nbconvert_exporter": "python",
   "pygments_lexer": "ipython3",
   "version": "3.13.3"
  }
 },
 "nbformat": 4,
 "nbformat_minor": 5
}
