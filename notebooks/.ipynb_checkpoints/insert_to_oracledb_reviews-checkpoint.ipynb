{
 "cells": [
  {
   "cell_type": "code",
   "execution_count": 19,
   "id": "509440ad-5e95-4cf4-8ebc-d85da66bfa88",
   "metadata": {},
   "outputs": [
    {
     "name": "stdout",
     "output_type": "stream",
     "text": [
      "processed Data inserted successfully to reviews table!\n"
     ]
    }
   ],
   "source": [
    "import cx_Oracle\n",
    "import pandas as pd\n",
    "import os\n",
    "import sys\n",
    "\n",
    "os.chdir(r'D:\\10academy\\Bank-reviews-analysis_W2\\Bank-reviews-analysis')\n",
    "sys.path.append(os.getcwd()) \n",
    "# Connect to the Oracle database\n",
    "\n",
    "hostname = 'localhost'\n",
    "port = 1521\n",
    "sid = 'localcr'\n",
    "username = 'bank_reviews'\n",
    "password = 'bankreviews'\n",
    "dsn = cx_Oracle.makedsn(hostname, port, sid=sid)\n",
    "\n",
    "# Connect to the Oracle database\n",
    "connection = cx_Oracle.connect(user=username, password=password, dsn=dsn)\n",
    "\n",
    "# Create a cursor\n",
    "cursor = connection.cursor()\n",
    "\n",
    "# Paths to the processed bank data CSV files\n",
    "banks = {\n",
    "    \"CBE\": \"notebooks/data/processed_reviews_CBE.csv\",\n",
    "    \"BOA\": \"notebooks/data/processed_reviews_BOA.csv\",\n",
    "    \"Dashen\": \"notebooks/data/processed_reviews_Dashen.csv\"\n",
    "}\n",
    "\n",
    "# Load the processed bank data into DataFrames\n",
    "combined_reviews = pd.DataFrame()\n",
    "\n",
    "for bank, path in banks.items():\n",
    "    # Load each bank's processed reviews\n",
    "    bank_df = pd.read_csv(path)\n",
    "   \n",
    "    combined_reviews = pd.concat([combined_reviews, bank_df], ignore_index=True)\n",
    "# Convert the date column to datetime format\n",
    "combined_reviews['date'] = pd.to_datetime(combined_reviews['date'], errors='coerce')\n",
    "\n",
    "# Check for any NaT values after conversion\n",
    "if combined_reviews['date'].isnull().any():\n",
    "    print(\"Warning: Some date values could not be converted!\")\n",
    "\n",
    "if 'processed_review' not in combined_reviews.columns or combined_reviews['processed_review'].isnull().any():\n",
    "    combined_reviews['processed_review'] = combined_reviews['processed_review'].fillna('')\n",
    "# Ensure it's a string type\n",
    "combined_reviews['processed_review'] = combined_reviews['processed_review'].astype(str)\n",
    "\n",
    "for index, row in combined_reviews.iterrows():\n",
    "     cursor.execute(\"\"\"\n",
    "        INSERT INTO reviews (review_text, rating, review_date, bank_name, source, processed_review, sentiment_score, sentiment)\n",
    "        VALUES (:1, :2, :3, :4, :5, :6, :7, :8)\n",
    "    \"\"\", (row['review_text'], row['rating'], row['date'], row['bank_name'], row['source'], row['processed_review'], row['sentiment_score'], row['sentiment']))\n",
    "\n",
    "# Commit the transaction\n",
    "connection.commit()\n",
    "\n",
    "# Close the cursor and connection\n",
    "cursor.close()\n",
    "connection.close()\n",
    "\n",
    "print(\"processed Data inserted successfully to reviews table!\")"
   ]
  },
  {
   "cell_type": "code",
   "execution_count": null,
   "id": "c7e59658-de24-4f76-af2a-ea61223949f5",
   "metadata": {},
   "outputs": [],
   "source": []
  }
 ],
 "metadata": {
  "kernelspec": {
   "display_name": "Python 3 (ipykernel)",
   "language": "python",
   "name": "python3"
  },
  "language_info": {
   "codemirror_mode": {
    "name": "ipython",
    "version": 3
   },
   "file_extension": ".py",
   "mimetype": "text/x-python",
   "name": "python",
   "nbconvert_exporter": "python",
   "pygments_lexer": "ipython3",
   "version": "3.13.3"
  }
 },
 "nbformat": 4,
 "nbformat_minor": 5
}
