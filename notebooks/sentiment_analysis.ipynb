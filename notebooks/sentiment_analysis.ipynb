{
 "cells": [
  {
   "cell_type": "code",
   "execution_count": 5,
   "id": "ca3a022b-9cda-491a-aa8d-2dab230b4577",
   "metadata": {},
   "outputs": [
    {
     "name": "stdout",
     "output_type": "stream",
     "text": [
      "Loaded combined data for analysis.\n",
      "                                         review_text  rating        date  \\\n",
      "0           this good app but screenshot must enable       4  2025-08-18   \n",
      "1                              the fast ❤❤❤❤❤❤❤❤❤❤🇪🇹       5  2025-08-18   \n",
      "2  በፊት ብር ትራንስፈር የተደረገባቸዉን አካዉንቶች remove አርጓል የሚያ...       1  2025-08-18   \n",
      "3                                               Good       4  2025-08-18   \n",
      "4                                           Best app       5  2025-08-18   \n",
      "\n",
      "  bank_name       source                                   processed_review  \n",
      "0       CBE  Google Play                         good app screenshot enable  \n",
      "1       CBE  Google Play                                               fast  \n",
      "2       CBE  Google Play  በፊት ብር ትራንስፈር የተደረገባቸዉን አካዉንቶች remove አርጓል የሚያ...  \n",
      "3       CBE  Google Play                                               good  \n",
      "4       CBE  Google Play                                           good app  \n"
     ]
    }
   ],
   "source": [
    "import pandas as pd\n",
    "import os\n",
    "import sys\n",
    "import warnings\n",
    "os.chdir(r'D:\\10academy\\week2_update\\Bank-reviews-analysis')\n",
    "sys.path.append(os.getcwd())\n",
    "\n",
    "# Suppress warnings\n",
    "warnings.filterwarnings(\"ignore\")\n",
    "DATA_DIR = 'notebooks/data'\n",
    "final_df = pd.read_csv(os.path.join(DATA_DIR, 'all_processed_reviews.csv'))\n",
    "print(\"Loaded combined data for analysis.\")\n",
    "print(final_df.head())"
   ]
  },
  {
   "cell_type": "code",
   "execution_count": 6,
   "id": "784f628b-8b07-41ac-8cfb-9850430bf486",
   "metadata": {},
   "outputs": [
    {
     "name": "stdout",
     "output_type": "stream",
     "text": [
      "Sentiment analysis complete.\n"
     ]
    }
   ],
   "source": [
    "from vaderSentiment.vaderSentiment import SentimentIntensityAnalyzer\n",
    "\n",
    "analyzer = SentimentIntensityAnalyzer()\n",
    "\n",
    "def get_sentiment(text):\n",
    "    if not isinstance(text, str):\n",
    "        return 0, 'neutral'\n",
    "    score = analyzer.polarity_scores(text)['compound']\n",
    "    if score >= 0.05:\n",
    "        sentiment = 'positive'\n",
    "    elif score <= -0.05:\n",
    "        sentiment = 'negative'\n",
    "    else:\n",
    "        sentiment = 'neutral'\n",
    "    return score, sentiment\n",
    "\n",
    "final_df[['sentiment_score', 'sentiment']] = final_df['processed_review'].apply(\n",
    "    lambda x: pd.Series(get_sentiment(x))\n",
    ")\n",
    "print(\"Sentiment analysis complete.\")"
   ]
  },
  {
   "cell_type": "code",
   "execution_count": 7,
   "id": "def12b8a-a128-4810-b2ef-844677fabd82",
   "metadata": {},
   "outputs": [
    {
     "name": "stdout",
     "output_type": "stream",
     "text": [
      "\n",
      "Top 10 Positive Themes: ['app' 'bank' 'banking' 'dashen' 'easy' 'good' 'like' 'nice' 'use' 'work']\n",
      "Top 10 Negative Themes: ['app' 'bad' 'bank' 'banking' 'crash' 'fix' 'mobile' 'time' 'update'\n",
      " 'work']\n"
     ]
    }
   ],
   "source": [
    "from sklearn.feature_extraction.text import TfidfVectorizer\n",
    "\n",
    "def get_top_themes(df, n=10):\n",
    "    positive_reviews = df[df['sentiment'] == 'positive']['processed_review'].str.cat(sep=' ')\n",
    "    negative_reviews = df[df['sentiment'] == 'negative']['processed_review'].str.cat(sep=' ')\n",
    "\n",
    "    vectorizer = TfidfVectorizer(max_features=n)\n",
    "\n",
    "    # Get top keywords for positive reviews\n",
    "    vectorizer.fit_transform([positive_reviews])\n",
    "    positive_themes = vectorizer.get_feature_names_out()\n",
    "\n",
    "    # Get top keywords for negative reviews\n",
    "    vectorizer.fit_transform([negative_reviews])\n",
    "    negative_themes = vectorizer.get_feature_names_out()\n",
    "\n",
    "    print(\"\\nTop 10 Positive Themes:\", positive_themes)\n",
    "    print(\"Top 10 Negative Themes:\", negative_themes)\n",
    "\n",
    "get_top_themes(final_df)"
   ]
  },
  {
   "cell_type": "code",
   "execution_count": 8,
   "id": "9a14964b-5afc-4401-b08a-d48bf1d2d784",
   "metadata": {},
   "outputs": [
    {
     "name": "stdout",
     "output_type": "stream",
     "text": [
      "✅ Final analyzed data saved to final_analyzed_reviews.csv\n"
     ]
    }
   ],
   "source": [
    "final_df.to_csv(os.path.join(DATA_DIR, 'final_analyzed_reviews.csv'), index=False)\n",
    "print(\"✅ Final analyzed data saved to final_analyzed_reviews.csv\")"
   ]
  },
  {
   "cell_type": "code",
   "execution_count": null,
   "id": "d28139e7-95d8-4abc-96e6-6b640f2b8ff5",
   "metadata": {},
   "outputs": [],
   "source": []
  }
 ],
 "metadata": {
  "kernelspec": {
   "display_name": "Python 3 (ipykernel)",
   "language": "python",
   "name": "python3"
  },
  "language_info": {
   "codemirror_mode": {
    "name": "ipython",
    "version": 3
   },
   "file_extension": ".py",
   "mimetype": "text/x-python",
   "name": "python",
   "nbconvert_exporter": "python",
   "pygments_lexer": "ipython3",
   "version": "3.13.3"
  }
 },
 "nbformat": 4,
 "nbformat_minor": 5
}
